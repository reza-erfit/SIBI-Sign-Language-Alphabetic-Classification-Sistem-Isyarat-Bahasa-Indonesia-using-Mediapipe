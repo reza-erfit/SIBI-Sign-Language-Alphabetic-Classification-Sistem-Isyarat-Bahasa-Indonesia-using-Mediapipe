{
 "cells": [
  {
   "cell_type": "code",
   "execution_count": 1,
   "metadata": {},
   "outputs": [],
   "source": [
    "import csv\n",
    "import copy\n",
    "import argparse\n",
    "import itertools\n",
    "\n",
    "from collections import Counter\n",
    "from collections import deque\n",
    "\n",
    "import os\n",
    "import cv2 as cv\n",
    "import numpy as np\n",
    "import mediapipe as mp"
   ]
  },
  {
   "cell_type": "code",
   "execution_count": 2,
   "metadata": {},
   "outputs": [],
   "source": [
    "mp_hands = mp.solutions.hands\n",
    "hands = mp_hands.Hands(\n",
    "    static_image_mode=True,\n",
    "    max_num_hands=2,\n",
    "    min_detection_confidence=0.9,\n",
    "    min_tracking_confidence=0.8,\n",
    ")"
   ]
  },
  {
   "cell_type": "code",
   "execution_count": 8,
   "metadata": {},
   "outputs": [],
   "source": [
    "path = r'D:\\Kuliah\\Tugas, PPT, Buku Kuliah\\Semester 5\\Data Mining II\\Project\\Image Augmentation'\n",
    "path_sibi = r'D:\\Kuliah\\Tugas, PPT, Buku Kuliah\\Semester 5\\Data Mining II\\Project\\SIBI'\n",
    "path_a = r\"D:\\Kuliah\\Tugas, PPT, Buku Kuliah\\Semester 5\\Data Mining II\\Project\\A\""
   ]
  },
  {
   "cell_type": "code",
   "execution_count": 10,
   "metadata": {},
   "outputs": [
    {
     "name": "stdout",
     "output_type": "stream",
     "text": [
      "Abjad A Selesai!\n",
      "Abjad B Selesai!\n",
      "Abjad C Selesai!\n",
      "Abjad D Selesai!\n",
      "Abjad E Selesai!\n",
      "Abjad F Selesai!\n",
      "Abjad G Selesai!\n",
      "Abjad H Selesai!\n",
      "Abjad I Selesai!\n",
      "Abjad J Selesai!\n",
      "Abjad K Selesai!\n",
      "Abjad L Selesai!\n",
      "Abjad M Selesai!\n",
      "Abjad N Selesai!\n",
      "Abjad O Selesai!\n",
      "Abjad P Selesai!\n",
      "Abjad Q Selesai!\n",
      "Abjad R Selesai!\n",
      "Abjad S Selesai!\n",
      "Abjad T Selesai!\n",
      "Abjad U Selesai!\n",
      "Abjad V Selesai!\n",
      "Abjad W Selesai!\n",
      "Abjad X Selesai!\n",
      "Abjad Y Selesai!\n",
      "Abjad Z Selesai!\n"
     ]
    }
   ],
   "source": [
    "abjad = ['A','B','C','D','E','F','G','H','I','J','K','L','M','N','O','P','Q','R','S','T','U','V','W','X','Y','Z']\n",
    "for i in range(0,26):\n",
    "    path_abjad = f\"{path}\\{abjad[i]}\"\n",
    "    for gambar in os.listdir(path_abjad):\n",
    "        # Read Image\n",
    "        image = cv.imread(f\"{path_abjad}\\{gambar}\")\n",
    "        image = cv.flip(image, 1)  # Mirror display\n",
    "        debug_image = copy.deepcopy(image)\n",
    "        # Detection implementation #############################################################\n",
    "        image = cv.cvtColor(image, cv.COLOR_BGR2RGB)\n",
    "        image.flags.writeable = False\n",
    "        results = hands.process(image)\n",
    "        image.flags.writeable = True\n",
    "        #  ####################################################################\n",
    "        if results.multi_hand_landmarks is not None:\n",
    "            for hand_landmarks, handedness in zip(results.multi_hand_landmarks,\n",
    "                                                    results.multi_handedness):\n",
    "                # Landmark calculation\n",
    "                landmark_list = calc_landmark_list(debug_image, hand_landmarks)\n",
    "\n",
    "                # Conversion to relative coordinates / normalized coordinates\n",
    "                pre_processed_landmark_list = pre_process_landmark(\n",
    "                    landmark_list)\n",
    "\n",
    "                # Write to the dataset file\n",
    "                logging_csv(i, pre_processed_landmark_list)\n",
    "    print(\"Abjad\",abjad[i],\"Selesai!\")\n"
   ]
  },
  {
   "cell_type": "code",
   "execution_count": 55,
   "metadata": {},
   "outputs": [
    {
     "data": {
      "text/plain": [
       "array([[[143, 179, 203],\n",
       "        [142, 178, 202],\n",
       "        [142, 178, 202],\n",
       "        ...,\n",
       "        [179, 207, 231],\n",
       "        [179, 206, 232],\n",
       "        [180, 207, 233]],\n",
       "\n",
       "       [[142, 178, 202],\n",
       "        [141, 177, 201],\n",
       "        [141, 177, 201],\n",
       "        ...,\n",
       "        [179, 207, 231],\n",
       "        [179, 206, 232],\n",
       "        [179, 206, 232]],\n",
       "\n",
       "       [[140, 176, 200],\n",
       "        [139, 175, 199],\n",
       "        [140, 176, 200],\n",
       "        ...,\n",
       "        [180, 208, 232],\n",
       "        [179, 207, 231],\n",
       "        [179, 207, 231]],\n",
       "\n",
       "       ...,\n",
       "\n",
       "       [[ 49,  73, 119],\n",
       "        [ 46,  70, 116],\n",
       "        [ 46,  70, 116],\n",
       "        ...,\n",
       "        [102, 135, 161],\n",
       "        [101, 134, 160],\n",
       "        [100, 133, 159]],\n",
       "\n",
       "       [[ 49,  73, 119],\n",
       "        [ 45,  69, 115],\n",
       "        [ 44,  68, 114],\n",
       "        ...,\n",
       "        [102, 135, 161],\n",
       "        [101, 134, 160],\n",
       "        [100, 133, 159]],\n",
       "\n",
       "       [[ 49,  73, 119],\n",
       "        [ 45,  69, 115],\n",
       "        [ 45,  69, 115],\n",
       "        ...,\n",
       "        [101, 134, 160],\n",
       "        [101, 134, 160],\n",
       "        [100, 133, 159]]], dtype=uint8)"
      ]
     },
     "execution_count": 55,
     "metadata": {},
     "output_type": "execute_result"
    }
   ],
   "source": [
    "image = cv.imread(r\"D:\\Kuliah\\Tugas, PPT, Buku Kuliah\\Semester 5\\Data Mining II\\Project\\Code\\mediapipe\\IMG20221130164738.jpg\")\n",
    "image"
   ]
  },
  {
   "cell_type": "code",
   "execution_count": 56,
   "metadata": {},
   "outputs": [],
   "source": [
    "\n",
    "# Camera capture #####################################################\n",
    "\n",
    "# ret, image = cap.read()\n",
    "# if not ret:\n",
    "#     break\n",
    "# image = cv.flip(image, 1)  # Mirror display\n",
    "debug_image = copy.deepcopy(image)\n",
    "\n",
    "# Detection implementation #############################################################\n",
    "image = cv.cvtColor(image, cv.COLOR_BGR2RGB)\n",
    "image.flags.writeable = False\n",
    "results = hands.process(image)\n",
    "image.flags.writeable = True"
   ]
  },
  {
   "cell_type": "code",
   "execution_count": 4,
   "metadata": {},
   "outputs": [],
   "source": [
    "def calc_landmark_list(image, landmarks):\n",
    "    image_width, image_height = image.shape[1], image.shape[0]\n",
    "\n",
    "    landmark_point = []\n",
    "\n",
    "    # Keypoint\n",
    "    for _, landmark in enumerate(landmarks.landmark):\n",
    "        landmark_x = min(int(landmark.x * image_width), image_width - 1)\n",
    "        landmark_y = min(int(landmark.y * image_height), image_height - 1)\n",
    "        # landmark_z = landmark.z\n",
    "\n",
    "        landmark_point.append([landmark_x, landmark_y])\n",
    "\n",
    "    return landmark_point\n",
    "\n",
    "\n",
    "def pre_process_landmark(landmark_list):\n",
    "    temp_landmark_list = copy.deepcopy(landmark_list)\n",
    "\n",
    "    # Convert to relative coordinates\n",
    "    base_x, base_y = 0, 0\n",
    "    for index, landmark_point in enumerate(temp_landmark_list):\n",
    "        if index == 0:\n",
    "            base_x, base_y = landmark_point[0], landmark_point[1]\n",
    "\n",
    "        temp_landmark_list[index][0] = temp_landmark_list[index][0] - base_x\n",
    "        temp_landmark_list[index][1] = temp_landmark_list[index][1] - base_y\n",
    "\n",
    "    # Convert to a one-dimensional list\n",
    "    temp_landmark_list = list(\n",
    "        itertools.chain.from_iterable(temp_landmark_list))\n",
    "\n",
    "    # Normalization\n",
    "    max_value = max(list(map(abs, temp_landmark_list)))\n",
    "\n",
    "    def normalize_(n):\n",
    "        return n / max_value\n",
    "\n",
    "    temp_landmark_list = list(map(normalize_, temp_landmark_list))\n",
    "\n",
    "    return temp_landmark_list\n",
    "\n",
    "def logging_csv(number, landmark_list):\n",
    "    csv_path = 'model/keypoint_classifier/keypoint.csv'\n",
    "    with open(csv_path, 'a', newline=\"\") as f:\n",
    "        writer = csv.writer(f)\n",
    "        writer.writerow([number, *landmark_list])"
   ]
  },
  {
   "cell_type": "code",
   "execution_count": 57,
   "metadata": {},
   "outputs": [
    {
     "name": "stdout",
     "output_type": "stream",
     "text": [
      "[0.0, 0.0, 0.37582865884752675, 0.021417644059153494, 0.5956144824069353, -0.06425293217746048, 0.7883732789393166, -0.07802141764405915, 0.9964303926568078, -0.1172870984191739, 0.4604793472718001, -0.4961754207037226, 0.6455889852116268, -0.6211116777154513, 0.8322284548699643, -0.5961244263131056, 0.9760326364099949, -0.5425803161652218, 0.41866394696583376, -0.5645079041305456, 0.6568077511473738, -0.7332993370729219, 0.8704742478327384, -0.6955634880163182, 1.0, -0.5752167261601224, 0.37735849056603776, -0.6160122386537481, 0.6114227434982152, -0.791942886282509, 0.8245792962774094, -0.7526772055073941, 0.9643039265680775, -0.660377358490566, 0.34625191228964813, -0.6262111167771545, 0.5711371749107598, -0.7899031106578276, 0.7450280469148394, -0.7975522692503825, 0.8842427332993371, -0.76185619581846]\n"
     ]
    }
   ],
   "source": [
    "#  ####################################################################\n",
    "# if results.multi_hand_landmarks is not None:\n",
    "for hand_landmarks, handedness in zip(results.multi_hand_landmarks,\n",
    "                                        results.multi_handedness):\n",
    "    # Landmark calculation\n",
    "    landmark_list = calc_landmark_list(debug_image, hand_landmarks)\n",
    "\n",
    "    # Conversion to relative coordinates / normalized coordinates\n",
    "    pre_processed_landmark_list = pre_process_landmark(\n",
    "        landmark_list)\n",
    "    print(pre_processed_landmark_list)\n",
    "\n",
    "        # # Write to the dataset file\n",
    "        # logging_csv(0, pre_processed_landmark_list)\n"
   ]
  },
  {
   "cell_type": "code",
   "execution_count": null,
   "metadata": {},
   "outputs": [],
   "source": []
  }
 ],
 "metadata": {
  "kernelspec": {
   "display_name": "Python 3.9.15 ('tf')",
   "language": "python",
   "name": "python3"
  },
  "language_info": {
   "codemirror_mode": {
    "name": "ipython",
    "version": 3
   },
   "file_extension": ".py",
   "mimetype": "text/x-python",
   "name": "python",
   "nbconvert_exporter": "python",
   "pygments_lexer": "ipython3",
   "version": "3.9.15"
  },
  "orig_nbformat": 4,
  "vscode": {
   "interpreter": {
    "hash": "21f13f76b47dc2a951ca234306b426a53867e3c179422e232607daca0cf5c286"
   }
  }
 },
 "nbformat": 4,
 "nbformat_minor": 2
}
