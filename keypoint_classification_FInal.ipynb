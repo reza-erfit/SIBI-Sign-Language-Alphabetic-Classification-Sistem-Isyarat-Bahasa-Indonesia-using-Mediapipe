{
  "cells": [
    {
      "cell_type": "code",
      "execution_count": 1,
      "metadata": {
        "id": "igMyGnjE9hEp"
      },
      "outputs": [],
      "source": [
        "import csv\n",
        "\n",
        "import numpy as np\n",
        "import tensorflow as tf\n",
        "from sklearn.model_selection import train_test_split\n",
        "\n",
        "RANDOM_SEED = 42"
      ]
    },
    {
      "cell_type": "markdown",
      "metadata": {
        "id": "t2HDvhIu9hEr"
      },
      "source": [
        "# Specify each path"
      ]
    },
    {
      "cell_type": "code",
      "execution_count": 2,
      "metadata": {
        "id": "9NvZP2Zn9hEy"
      },
      "outputs": [],
      "source": [
        "dataset = 'model/keypoint_classifier/keypoint.csv'\n",
        "model_save_path = 'model/keypoint_classifier/keypoint_classifier1.hdf5'\n",
        "tflite_save_path = 'model/keypoint_classifier/keypoint_classifier1.tflite'"
      ]
    },
    {
      "cell_type": "markdown",
      "metadata": {
        "id": "s5oMH7x19hEz"
      },
      "source": [
        "# Set number of classes"
      ]
    },
    {
      "cell_type": "code",
      "execution_count": 3,
      "metadata": {
        "id": "du4kodXL9hEz"
      },
      "outputs": [],
      "source": [
        "NUM_CLASSES = 26"
      ]
    },
    {
      "cell_type": "markdown",
      "metadata": {
        "id": "XjnL0uso9hEz"
      },
      "source": [
        "# Dataset reading"
      ]
    },
    {
      "cell_type": "code",
      "execution_count": 4,
      "metadata": {
        "id": "QT5ZqtEz9hE0"
      },
      "outputs": [],
      "source": [
        "X_dataset = np.loadtxt(dataset, delimiter=',', dtype='float32', usecols=list(range(1, (21 * 2) + 1)))"
      ]
    },
    {
      "cell_type": "code",
      "execution_count": 5,
      "metadata": {
        "id": "QmoKFsp49hE0"
      },
      "outputs": [],
      "source": [
        "y_dataset = np.loadtxt(dataset, delimiter=',', dtype='int32', usecols=(0))"
      ]
    },
    {
      "cell_type": "code",
      "execution_count": 125,
      "metadata": {
        "id": "xQU7JTZ_9hE0"
      },
      "outputs": [],
      "source": [
        "X_train, X_test, y_train, y_test = train_test_split(X_dataset, y_dataset, train_size=0.8, random_state=RANDOM_SEED)"
      ]
    },
    {
      "cell_type": "markdown",
      "metadata": {
        "id": "mxK_lETT9hE0"
      },
      "source": [
        "# Model building"
      ]
    },
    {
      "cell_type": "code",
      "execution_count": 7,
      "metadata": {
        "id": "vHBmUf1t9hE1"
      },
      "outputs": [],
      "source": [
        "import tensorflow as tf\n",
        "model = tf.keras.models.Sequential([\n",
        "    tf.keras.layers.Input((21 * 2, )),\n",
        "    tf.keras.layers.Dropout(0.1),\n",
        "    tf.keras.layers.Dense(512, activation='relu'),\n",
        "    tf.keras.layers.Dropout(0.2),\n",
        "    tf.keras.layers.Dense(256, activation='relu'),\n",
        "    tf.keras.layers.Dense(NUM_CLASSES, activation='softmax')\n",
        "])"
      ]
    },
    {
      "cell_type": "code",
      "execution_count": 8,
      "metadata": {
        "colab": {
          "base_uri": "https://localhost:8080/"
        },
        "id": "ypqky9tc9hE1",
        "outputId": "5db082bb-30e3-4110-bf63-a1ee777ecd46"
      },
      "outputs": [
        {
          "name": "stdout",
          "output_type": "stream",
          "text": [
            "Model: \"sequential\"\n",
            "_________________________________________________________________\n",
            " Layer (type)                Output Shape              Param #   \n",
            "=================================================================\n",
            " dropout (Dropout)           (None, 42)                0         \n",
            "                                                                 \n",
            " dense (Dense)               (None, 512)               22016     \n",
            "                                                                 \n",
            " dropout_1 (Dropout)         (None, 512)               0         \n",
            "                                                                 \n",
            " dense_1 (Dense)             (None, 256)               131328    \n",
            "                                                                 \n",
            " dense_2 (Dense)             (None, 26)                6682      \n",
            "                                                                 \n",
            "=================================================================\n",
            "Total params: 160,026\n",
            "Trainable params: 160,026\n",
            "Non-trainable params: 0\n",
            "_________________________________________________________________\n"
          ]
        }
      ],
      "source": [
        "model.summary()  # tf.keras.utils.plot_model(model, show_shapes=True)"
      ]
    },
    {
      "cell_type": "code",
      "execution_count": 164,
      "metadata": {},
      "outputs": [],
      "source": [
        "# tf.keras.utils.plot_model(model, show_shapes=True)"
      ]
    },
    {
      "cell_type": "code",
      "execution_count": 9,
      "metadata": {
        "id": "MbMjOflQ9hE1"
      },
      "outputs": [],
      "source": [
        "# Model checkpoint callback\n",
        "cp_callback = tf.keras.callbacks.ModelCheckpoint(\n",
        "    model_save_path, verbose=1, save_weights_only=False)"
      ]
    },
    {
      "cell_type": "code",
      "execution_count": 44,
      "metadata": {
        "id": "c3Dac0M_9hE2"
      },
      "outputs": [],
      "source": [
        "# Model compilation\n",
        "model.compile(\n",
        "    optimizer='adam',\n",
        "    loss='sparse_categorical_crossentropy',\n",
        "    metrics=['accuracy']\n",
        ")"
      ]
    },
    {
      "cell_type": "markdown",
      "metadata": {
        "id": "7XI0j1Iu9hE2"
      },
      "source": [
        "# Model training"
      ]
    },
    {
      "cell_type": "code",
      "execution_count": 14,
      "metadata": {},
      "outputs": [
        {
          "name": "stdout",
          "output_type": "stream",
          "text": [
            "Epoch 1/100\n",
            "53/53 [==============================] - 2s 9ms/step - loss: 2.6038 - accuracy: 0.2779 - val_loss: 1.7941 - val_accuracy: 0.5326\n",
            "Epoch 2/100\n",
            "53/53 [==============================] - 0s 5ms/step - loss: 1.6294 - accuracy: 0.4987 - val_loss: 1.0824 - val_accuracy: 0.7293\n",
            "Epoch 3/100\n",
            "53/53 [==============================] - 0s 5ms/step - loss: 1.2635 - accuracy: 0.5996 - val_loss: 0.7620 - val_accuracy: 0.8075\n",
            "Epoch 4/100\n",
            "53/53 [==============================] - 0s 4ms/step - loss: 1.0434 - accuracy: 0.6676 - val_loss: 0.5688 - val_accuracy: 0.8596\n",
            "Epoch 5/100\n",
            "53/53 [==============================] - 0s 5ms/step - loss: 0.9168 - accuracy: 0.7079 - val_loss: 0.4865 - val_accuracy: 0.8815\n",
            "Epoch 6/100\n",
            "53/53 [==============================] - 0s 5ms/step - loss: 0.8349 - accuracy: 0.7200 - val_loss: 0.4023 - val_accuracy: 0.9011\n",
            "Epoch 7/100\n",
            "53/53 [==============================] - 0s 4ms/step - loss: 0.7606 - accuracy: 0.7489 - val_loss: 0.3691 - val_accuracy: 0.9064\n",
            "Epoch 8/100\n",
            "53/53 [==============================] - 0s 4ms/step - loss: 0.7283 - accuracy: 0.7534 - val_loss: 0.3434 - val_accuracy: 0.9088\n",
            "Epoch 9/100\n",
            "53/53 [==============================] - 0s 5ms/step - loss: 0.6805 - accuracy: 0.7673 - val_loss: 0.3040 - val_accuracy: 0.9277\n",
            "Epoch 10/100\n",
            "53/53 [==============================] - 0s 4ms/step - loss: 0.6383 - accuracy: 0.7860 - val_loss: 0.2849 - val_accuracy: 0.9396\n",
            "Epoch 11/100\n",
            "53/53 [==============================] - 0s 4ms/step - loss: 0.5986 - accuracy: 0.7925 - val_loss: 0.2642 - val_accuracy: 0.9408\n",
            "Epoch 12/100\n",
            "53/53 [==============================] - 0s 4ms/step - loss: 0.5668 - accuracy: 0.8071 - val_loss: 0.2501 - val_accuracy: 0.9313\n",
            "Epoch 13/100\n",
            "53/53 [==============================] - 0s 4ms/step - loss: 0.5648 - accuracy: 0.8088 - val_loss: 0.2211 - val_accuracy: 0.9579\n",
            "Epoch 14/100\n",
            "53/53 [==============================] - 0s 4ms/step - loss: 0.4955 - accuracy: 0.8334 - val_loss: 0.2145 - val_accuracy: 0.9508\n",
            "Epoch 15/100\n",
            "53/53 [==============================] - 0s 4ms/step - loss: 0.5004 - accuracy: 0.8248 - val_loss: 0.1888 - val_accuracy: 0.9698\n",
            "Epoch 16/100\n",
            "53/53 [==============================] - 0s 4ms/step - loss: 0.4810 - accuracy: 0.8356 - val_loss: 0.1896 - val_accuracy: 0.9562\n",
            "Epoch 17/100\n",
            "53/53 [==============================] - 0s 5ms/step - loss: 0.4563 - accuracy: 0.8442 - val_loss: 0.1645 - val_accuracy: 0.9716\n",
            "Epoch 18/100\n",
            "53/53 [==============================] - 0s 4ms/step - loss: 0.4279 - accuracy: 0.8565 - val_loss: 0.1589 - val_accuracy: 0.9763\n",
            "Epoch 19/100\n",
            "53/53 [==============================] - 0s 5ms/step - loss: 0.4086 - accuracy: 0.8654 - val_loss: 0.1632 - val_accuracy: 0.9562\n",
            "Epoch 20/100\n",
            "53/53 [==============================] - 0s 4ms/step - loss: 0.3960 - accuracy: 0.8705 - val_loss: 0.1387 - val_accuracy: 0.9882\n",
            "Epoch 21/100\n",
            "53/53 [==============================] - 0s 4ms/step - loss: 0.3604 - accuracy: 0.8736 - val_loss: 0.1356 - val_accuracy: 0.9834\n",
            "Epoch 22/100\n",
            "53/53 [==============================] - 0s 4ms/step - loss: 0.3685 - accuracy: 0.8775 - val_loss: 0.1445 - val_accuracy: 0.9733\n",
            "Epoch 23/100\n",
            "53/53 [==============================] - 0s 4ms/step - loss: 0.3579 - accuracy: 0.8769 - val_loss: 0.1259 - val_accuracy: 0.9805\n",
            "Epoch 24/100\n",
            "53/53 [==============================] - 0s 4ms/step - loss: 0.3313 - accuracy: 0.8895 - val_loss: 0.1185 - val_accuracy: 0.9822\n",
            "Epoch 25/100\n",
            "53/53 [==============================] - 0s 4ms/step - loss: 0.3344 - accuracy: 0.8893 - val_loss: 0.1190 - val_accuracy: 0.9727\n",
            "Epoch 26/100\n",
            "53/53 [==============================] - 0s 4ms/step - loss: 0.2937 - accuracy: 0.8994 - val_loss: 0.0986 - val_accuracy: 0.9911\n",
            "Epoch 27/100\n",
            "53/53 [==============================] - 0s 4ms/step - loss: 0.2937 - accuracy: 0.9027 - val_loss: 0.1043 - val_accuracy: 0.9864\n",
            "Epoch 28/100\n",
            "53/53 [==============================] - 0s 4ms/step - loss: 0.2933 - accuracy: 0.9019 - val_loss: 0.1022 - val_accuracy: 0.9822\n",
            "Epoch 29/100\n",
            "53/53 [==============================] - 0s 4ms/step - loss: 0.2838 - accuracy: 0.9085 - val_loss: 0.0899 - val_accuracy: 0.9923\n",
            "Epoch 30/100\n",
            "53/53 [==============================] - 0s 4ms/step - loss: 0.2811 - accuracy: 0.9119 - val_loss: 0.0944 - val_accuracy: 0.9763\n",
            "Epoch 31/100\n",
            "53/53 [==============================] - 0s 4ms/step - loss: 0.2559 - accuracy: 0.9160 - val_loss: 0.0813 - val_accuracy: 0.9917\n",
            "Epoch 32/100\n",
            "53/53 [==============================] - 0s 5ms/step - loss: 0.2503 - accuracy: 0.9200 - val_loss: 0.0895 - val_accuracy: 0.9757\n",
            "Epoch 33/100\n",
            "53/53 [==============================] - 0s 4ms/step - loss: 0.2697 - accuracy: 0.9092 - val_loss: 0.0887 - val_accuracy: 0.9882\n",
            "Epoch 34/100\n",
            "53/53 [==============================] - 0s 4ms/step - loss: 0.2336 - accuracy: 0.9249 - val_loss: 0.0820 - val_accuracy: 0.9893\n",
            "Epoch 35/100\n",
            "53/53 [==============================] - 0s 4ms/step - loss: 0.2288 - accuracy: 0.9283 - val_loss: 0.0871 - val_accuracy: 0.9816\n",
            "Epoch 36/100\n",
            "53/53 [==============================] - 0s 4ms/step - loss: 0.2332 - accuracy: 0.9234 - val_loss: 0.0782 - val_accuracy: 0.9864\n",
            "Epoch 37/100\n",
            "53/53 [==============================] - 0s 4ms/step - loss: 0.2356 - accuracy: 0.9225 - val_loss: 0.0749 - val_accuracy: 0.9935\n",
            "Epoch 38/100\n",
            "53/53 [==============================] - 0s 4ms/step - loss: 0.2237 - accuracy: 0.9282 - val_loss: 0.0821 - val_accuracy: 0.9852\n",
            "Epoch 39/100\n",
            "53/53 [==============================] - 0s 4ms/step - loss: 0.2103 - accuracy: 0.9314 - val_loss: 0.0714 - val_accuracy: 0.9870\n",
            "Epoch 40/100\n",
            "53/53 [==============================] - 0s 3ms/step - loss: 0.2068 - accuracy: 0.9330 - val_loss: 0.0644 - val_accuracy: 0.9929\n",
            "Epoch 41/100\n",
            "53/53 [==============================] - 0s 4ms/step - loss: 0.2162 - accuracy: 0.9262 - val_loss: 0.0735 - val_accuracy: 0.9905\n",
            "Epoch 42/100\n",
            "53/53 [==============================] - 0s 3ms/step - loss: 0.2060 - accuracy: 0.9333 - val_loss: 0.0719 - val_accuracy: 0.9905\n",
            "Epoch 43/100\n",
            "53/53 [==============================] - 0s 4ms/step - loss: 0.1980 - accuracy: 0.9328 - val_loss: 0.0677 - val_accuracy: 0.9852\n",
            "Epoch 44/100\n",
            "53/53 [==============================] - 0s 4ms/step - loss: 0.2027 - accuracy: 0.9320 - val_loss: 0.0695 - val_accuracy: 0.9864\n",
            "Epoch 45/100\n",
            "53/53 [==============================] - 0s 4ms/step - loss: 0.1971 - accuracy: 0.9344 - val_loss: 0.0635 - val_accuracy: 0.9905\n",
            "Epoch 46/100\n",
            "53/53 [==============================] - 0s 3ms/step - loss: 0.1817 - accuracy: 0.9439 - val_loss: 0.0608 - val_accuracy: 0.9911\n",
            "Epoch 47/100\n",
            "53/53 [==============================] - 0s 3ms/step - loss: 0.1989 - accuracy: 0.9344 - val_loss: 0.0674 - val_accuracy: 0.9876\n",
            "Epoch 48/100\n",
            "53/53 [==============================] - 0s 3ms/step - loss: 0.1913 - accuracy: 0.9379 - val_loss: 0.0561 - val_accuracy: 0.9846\n",
            "Epoch 49/100\n",
            "53/53 [==============================] - 0s 4ms/step - loss: 0.1724 - accuracy: 0.9427 - val_loss: 0.0572 - val_accuracy: 0.9917\n",
            "Epoch 50/100\n",
            "53/53 [==============================] - 0s 3ms/step - loss: 0.1821 - accuracy: 0.9410 - val_loss: 0.0481 - val_accuracy: 0.9923\n",
            "Epoch 51/100\n",
            "53/53 [==============================] - 0s 4ms/step - loss: 0.1893 - accuracy: 0.9379 - val_loss: 0.0619 - val_accuracy: 0.9911\n",
            "Epoch 52/100\n",
            "53/53 [==============================] - 0s 4ms/step - loss: 0.1739 - accuracy: 0.9428 - val_loss: 0.0569 - val_accuracy: 0.9893\n",
            "Epoch 53/100\n",
            "53/53 [==============================] - 0s 4ms/step - loss: 0.1797 - accuracy: 0.9412 - val_loss: 0.0562 - val_accuracy: 0.9917\n",
            "Epoch 54/100\n",
            "53/53 [==============================] - 0s 4ms/step - loss: 0.1751 - accuracy: 0.9424 - val_loss: 0.0529 - val_accuracy: 0.9935\n",
            "Epoch 55/100\n",
            "53/53 [==============================] - 0s 3ms/step - loss: 0.1747 - accuracy: 0.9437 - val_loss: 0.0604 - val_accuracy: 0.9810\n",
            "Epoch 56/100\n",
            "53/53 [==============================] - 0s 4ms/step - loss: 0.1638 - accuracy: 0.9470 - val_loss: 0.0491 - val_accuracy: 0.9964\n",
            "Epoch 57/100\n",
            "53/53 [==============================] - 0s 4ms/step - loss: 0.1495 - accuracy: 0.9548 - val_loss: 0.0467 - val_accuracy: 0.9935\n",
            "Epoch 58/100\n",
            "53/53 [==============================] - 0s 3ms/step - loss: 0.1549 - accuracy: 0.9483 - val_loss: 0.0632 - val_accuracy: 0.9810\n",
            "Epoch 59/100\n",
            "53/53 [==============================] - 0s 4ms/step - loss: 0.1595 - accuracy: 0.9445 - val_loss: 0.0500 - val_accuracy: 0.9911\n",
            "Epoch 60/100\n",
            "53/53 [==============================] - 0s 4ms/step - loss: 0.1549 - accuracy: 0.9513 - val_loss: 0.0469 - val_accuracy: 0.9917\n",
            "Epoch 61/100\n",
            "53/53 [==============================] - 0s 4ms/step - loss: 0.1598 - accuracy: 0.9462 - val_loss: 0.0551 - val_accuracy: 0.9870\n",
            "Epoch 62/100\n",
            "53/53 [==============================] - 0s 4ms/step - loss: 0.1546 - accuracy: 0.9473 - val_loss: 0.0537 - val_accuracy: 0.9893\n",
            "Epoch 63/100\n",
            "53/53 [==============================] - 0s 4ms/step - loss: 0.1596 - accuracy: 0.9450 - val_loss: 0.0525 - val_accuracy: 0.9905\n",
            "Epoch 64/100\n",
            "53/53 [==============================] - 0s 3ms/step - loss: 0.1464 - accuracy: 0.9526 - val_loss: 0.0468 - val_accuracy: 0.9905\n",
            "Epoch 65/100\n",
            "53/53 [==============================] - 0s 4ms/step - loss: 0.1529 - accuracy: 0.9458 - val_loss: 0.0484 - val_accuracy: 0.9899\n",
            "Epoch 66/100\n",
            "53/53 [==============================] - 0s 3ms/step - loss: 0.1340 - accuracy: 0.9576 - val_loss: 0.0407 - val_accuracy: 0.9959\n",
            "Epoch 67/100\n",
            "53/53 [==============================] - 0s 4ms/step - loss: 0.1416 - accuracy: 0.9501 - val_loss: 0.0392 - val_accuracy: 0.9911\n",
            "Epoch 68/100\n",
            "53/53 [==============================] - 0s 4ms/step - loss: 0.1380 - accuracy: 0.9513 - val_loss: 0.0414 - val_accuracy: 0.9964\n",
            "Epoch 69/100\n",
            "53/53 [==============================] - 0s 3ms/step - loss: 0.1345 - accuracy: 0.9572 - val_loss: 0.0406 - val_accuracy: 0.9935\n",
            "Epoch 70/100\n",
            "53/53 [==============================] - 0s 3ms/step - loss: 0.1356 - accuracy: 0.9539 - val_loss: 0.0356 - val_accuracy: 0.9947\n",
            "Epoch 71/100\n",
            "53/53 [==============================] - 0s 4ms/step - loss: 0.1453 - accuracy: 0.9483 - val_loss: 0.0399 - val_accuracy: 0.9953\n",
            "Epoch 72/100\n",
            "53/53 [==============================] - 0s 4ms/step - loss: 0.1390 - accuracy: 0.9535 - val_loss: 0.0459 - val_accuracy: 0.9935\n",
            "Epoch 73/100\n",
            "53/53 [==============================] - 0s 3ms/step - loss: 0.1415 - accuracy: 0.9551 - val_loss: 0.0419 - val_accuracy: 0.9953\n",
            "Epoch 74/100\n",
            "53/53 [==============================] - 0s 3ms/step - loss: 0.1278 - accuracy: 0.9557 - val_loss: 0.0404 - val_accuracy: 0.9947\n",
            "Epoch 75/100\n",
            "53/53 [==============================] - 0s 3ms/step - loss: 0.1336 - accuracy: 0.9550 - val_loss: 0.0515 - val_accuracy: 0.9822\n",
            "Epoch 76/100\n",
            "53/53 [==============================] - 0s 3ms/step - loss: 0.1316 - accuracy: 0.9562 - val_loss: 0.0395 - val_accuracy: 0.9887\n",
            "Epoch 77/100\n",
            "53/53 [==============================] - 0s 3ms/step - loss: 0.1267 - accuracy: 0.9563 - val_loss: 0.0407 - val_accuracy: 0.9923\n",
            "Epoch 78/100\n",
            "53/53 [==============================] - 0s 3ms/step - loss: 0.1237 - accuracy: 0.9599 - val_loss: 0.0415 - val_accuracy: 0.9929\n",
            "Epoch 79/100\n",
            "53/53 [==============================] - 0s 3ms/step - loss: 0.1223 - accuracy: 0.9576 - val_loss: 0.0535 - val_accuracy: 0.9828\n",
            "Epoch 80/100\n",
            "53/53 [==============================] - 0s 4ms/step - loss: 0.1280 - accuracy: 0.9581 - val_loss: 0.0495 - val_accuracy: 0.9828\n",
            "Epoch 81/100\n",
            "53/53 [==============================] - 0s 4ms/step - loss: 0.1286 - accuracy: 0.9548 - val_loss: 0.0347 - val_accuracy: 0.9947\n",
            "Epoch 82/100\n",
            "53/53 [==============================] - 0s 5ms/step - loss: 0.1280 - accuracy: 0.9582 - val_loss: 0.0390 - val_accuracy: 0.9905\n",
            "Epoch 83/100\n",
            "53/53 [==============================] - 0s 4ms/step - loss: 0.1116 - accuracy: 0.9652 - val_loss: 0.0345 - val_accuracy: 0.9976\n",
            "Epoch 84/100\n",
            "53/53 [==============================] - 0s 4ms/step - loss: 0.1180 - accuracy: 0.9596 - val_loss: 0.0516 - val_accuracy: 0.9793\n",
            "Epoch 85/100\n",
            "53/53 [==============================] - 0s 3ms/step - loss: 0.1192 - accuracy: 0.9597 - val_loss: 0.0385 - val_accuracy: 0.9941\n",
            "Epoch 86/100\n",
            "53/53 [==============================] - 0s 3ms/step - loss: 0.1094 - accuracy: 0.9606 - val_loss: 0.0372 - val_accuracy: 0.9959\n",
            "Epoch 87/100\n",
            "53/53 [==============================] - 0s 3ms/step - loss: 0.1171 - accuracy: 0.9579 - val_loss: 0.0382 - val_accuracy: 0.9935\n",
            "Epoch 88/100\n",
            "53/53 [==============================] - 0s 3ms/step - loss: 0.1183 - accuracy: 0.9605 - val_loss: 0.0301 - val_accuracy: 0.9976\n",
            "Epoch 89/100\n",
            "53/53 [==============================] - 0s 3ms/step - loss: 0.1161 - accuracy: 0.9578 - val_loss: 0.0307 - val_accuracy: 0.9964\n",
            "Epoch 90/100\n",
            "53/53 [==============================] - 0s 3ms/step - loss: 0.1127 - accuracy: 0.9605 - val_loss: 0.0314 - val_accuracy: 0.9964\n",
            "Epoch 91/100\n",
            "53/53 [==============================] - 0s 4ms/step - loss: 0.1178 - accuracy: 0.9612 - val_loss: 0.0375 - val_accuracy: 0.9929\n",
            "Epoch 92/100\n",
            "53/53 [==============================] - 0s 4ms/step - loss: 0.1171 - accuracy: 0.9619 - val_loss: 0.0376 - val_accuracy: 0.9929\n",
            "Epoch 93/100\n",
            "53/53 [==============================] - 0s 4ms/step - loss: 0.1131 - accuracy: 0.9621 - val_loss: 0.0311 - val_accuracy: 0.9953\n",
            "Epoch 94/100\n",
            "53/53 [==============================] - 0s 4ms/step - loss: 0.1014 - accuracy: 0.9646 - val_loss: 0.0347 - val_accuracy: 0.9905\n",
            "Epoch 95/100\n",
            "53/53 [==============================] - 0s 4ms/step - loss: 0.1126 - accuracy: 0.9624 - val_loss: 0.0322 - val_accuracy: 0.9970\n",
            "Epoch 96/100\n",
            "53/53 [==============================] - 0s 4ms/step - loss: 0.1063 - accuracy: 0.9644 - val_loss: 0.0335 - val_accuracy: 0.9911\n",
            "Epoch 97/100\n",
            "53/53 [==============================] - 0s 4ms/step - loss: 0.0961 - accuracy: 0.9674 - val_loss: 0.0306 - val_accuracy: 0.9953\n",
            "Epoch 98/100\n",
            "53/53 [==============================] - 0s 4ms/step - loss: 0.1008 - accuracy: 0.9652 - val_loss: 0.0320 - val_accuracy: 0.9941\n",
            "Epoch 99/100\n",
            "53/53 [==============================] - 0s 4ms/step - loss: 0.1007 - accuracy: 0.9625 - val_loss: 0.0278 - val_accuracy: 0.9959\n",
            "Epoch 100/100\n",
            "53/53 [==============================] - 0s 4ms/step - loss: 0.1130 - accuracy: 0.9599 - val_loss: 0.0347 - val_accuracy: 0.9970\n"
          ]
        }
      ],
      "source": [
        "history = model.fit(\n",
        "    X_train,\n",
        "    y_train,\n",
        "    epochs=100,\n",
        "    batch_size=128,\n",
        "    validation_data=(X_test, y_test)\n",
        ")"
      ]
    },
    {
      "cell_type": "code",
      "execution_count": 45,
      "metadata": {},
      "outputs": [
        {
          "name": "stdout",
          "output_type": "stream",
          "text": [
            "53/53 [==============================] - 0s 4ms/step - loss: 0.0348 - accuracy: 0.9970\n",
            "Accuracy of the model is -  99.70378875732422 %\n"
          ]
        }
      ],
      "source": [
        "print(\"Accuracy of the model is - \", model.evaluate(X_test, y_test)[1] * 100, \"%\")"
      ]
    },
    {
      "cell_type": "code",
      "execution_count": 38,
      "metadata": {},
      "outputs": [],
      "source": [
        "# # Save Model\n",
        "# model.save(model_save_path, include_optimizer=False)"
      ]
    },
    {
      "cell_type": "code",
      "execution_count": 39,
      "metadata": {
        "id": "RBkmDeUW9hE4"
      },
      "outputs": [
        {
          "name": "stdout",
          "output_type": "stream",
          "text": [
            "WARNING:tensorflow:No training configuration found in the save file, so the model was *not* compiled. Compile it manually.\n"
          ]
        }
      ],
      "source": [
        "# # Loading the saved model\n",
        "# model = tf.keras.models.load_model(model_save_path)"
      ]
    },
    {
      "cell_type": "code",
      "execution_count": null,
      "metadata": {
        "colab": {
          "base_uri": "https://localhost:8080/"
        },
        "id": "tFz9Tb0I9hE4",
        "outputId": "1c3b3528-54ae-4ee2-ab04-77429211cbef"
      },
      "outputs": [
        {
          "name": "stdout",
          "output_type": "stream",
          "text": [
            "1/1 [==============================] - 0s 66ms/step\n",
            "[4.4015469e-06 4.5551037e-06 6.2023655e-06 4.0969647e-02 9.9153556e-07\n",
            " 1.8531678e-11 2.7098635e-03 1.1740107e-04 1.7767472e-07 1.0461173e-06\n",
            " 8.8139186e-06 2.5969900e-03 1.5792315e-06 1.0997206e-06 7.2162265e-08\n",
            " 1.9048324e-05 6.6495333e-05 4.6308202e-04 3.8021390e-05 2.2085898e-03\n",
            " 7.3604606e-04 6.1314186e-04 9.4794341e-05 8.0725753e-01 3.4643616e-10\n",
            " 1.4208037e-01]\n",
            "23\n"
          ]
        }
      ],
      "source": [
        "# Inference test\n",
        "predict_result = model.predict(np.array([X_test[0]]))\n",
        "print(np.squeeze(predict_result))\n",
        "print(np.argmax(np.squeeze(predict_result)))"
      ]
    },
    {
      "cell_type": "markdown",
      "metadata": {},
      "source": [
        "# Model Analysis"
      ]
    },
    {
      "cell_type": "code",
      "execution_count": 47,
      "metadata": {},
      "outputs": [
        {
          "data": {
            "image/png": "[encoded data removed]",
            "text/plain": [
              "<Figure size 1600x900 with 2 Axes>"
            ]
          },
          "metadata": {},
          "output_type": "display_data"
        }
      ],
      "source": [
        "import matplotlib.pyplot as plt\n",
        "epochs = [i for i in range(100)]\n",
        "fig, ax = plt.subplots(1, 2)\n",
        "train_acc = history.history[\"accuracy\"]\n",
        "train_loss = history.history[\"loss\"]\n",
        "val_acc = history.history[\"val_accuracy\"]\n",
        "val_loss = history.history[\"val_loss\"]\n",
        "fig.set_size_inches(16, 9)\n",
        "\n",
        "ax[0].plot(epochs, train_acc, \"go-\", label=\"Training Accuracy\")\n",
        "ax[0].plot(epochs, val_acc, \"ro-\", label=\"Testing Accuracy\")\n",
        "ax[0].set_title(\"Training & Validation Accuracy\")\n",
        "ax[0].legend()\n",
        "ax[0].set_xlabel(\"Epochs\")\n",
        "ax[0].set_ylabel(\"Accuracy\")\n",
        "\n",
        "ax[1].plot(epochs, train_loss, \"g-o\", label=\"Training Loss\")\n",
        "ax[1].plot(epochs, val_loss, \"r-o\", label=\"Testing Loss\")\n",
        "ax[1].set_title(\"Testing Accuracy & Loss\")\n",
        "ax[1].legend()\n",
        "ax[1].set_xlabel(\"Epochs\")\n",
        "ax[1].set_ylabel(\"Loss\")\n",
        "plt.show()"
      ]
    },
    {
      "cell_type": "markdown",
      "metadata": {
        "id": "S3U4yNWx9hE4"
      },
      "source": [
        "# Confusion matrix"
      ]
    },
    {
      "cell_type": "code",
      "execution_count": 126,
      "metadata": {
        "colab": {
          "base_uri": "https://localhost:8080/",
          "height": 582
        },
        "id": "AP1V6SCk9hE5",
        "outputId": "08e41a80-7a4a-4619-8125-ecc371368d19"
      },
      "outputs": [
        {
          "name": "stdout",
          "output_type": "stream",
          "text": [
            "53/53 [==============================] - 0s 2ms/step\n"
          ]
        },
        {
          "data": {
            "image/png": "[encoded data removed]",
            "text/plain": [
              "<Figure size 1500x1500 with 2 Axes>"
            ]
          },
          "metadata": {},
          "output_type": "display_data"
        },
        {
          "name": "stdout",
          "output_type": "stream",
          "text": [
            "Classification Report\n",
            "              precision    recall  f1-score   support\n",
            "\n",
            "           0       1.00      1.00      1.00        65\n",
            "           1       1.00      1.00      1.00        74\n",
            "           2       1.00      1.00      1.00        56\n",
            "           3       1.00      1.00      1.00        72\n",
            "           4       1.00      1.00      1.00        72\n",
            "           5       1.00      1.00      1.00        97\n",
            "           6       1.00      1.00      1.00        47\n",
            "           7       1.00      1.00      1.00        57\n",
            "           8       1.00      1.00      1.00        85\n",
            "           9       1.00      1.00      1.00        54\n",
            "          10       1.00      1.00      1.00        69\n",
            "          11       1.00      1.00      1.00        88\n",
            "          12       1.00      1.00      1.00        59\n",
            "          13       1.00      1.00      1.00        54\n",
            "          14       1.00      1.00      1.00        38\n",
            "          15       1.00      1.00      1.00        50\n",
            "          16       1.00      1.00      1.00        64\n",
            "          17       0.96      0.96      0.96        51\n",
            "          18       1.00      1.00      1.00        84\n",
            "          19       1.00      1.00      1.00        69\n",
            "          20       0.97      0.96      0.96        68\n",
            "          21       0.99      1.00      0.99        67\n",
            "          22       1.00      1.00      1.00        67\n",
            "          23       1.00      1.00      1.00        39\n",
            "          24       1.00      1.00      1.00        77\n",
            "          25       1.00      1.00      1.00        65\n",
            "\n",
            "    accuracy                           1.00      1688\n",
            "   macro avg       1.00      1.00      1.00      1688\n",
            "weighted avg       1.00      1.00      1.00      1688\n",
            "\n"
          ]
        }
      ],
      "source": [
        "import pandas as pd\n",
        "import seaborn as sns\n",
        "import matplotlib.pyplot as plt\n",
        "from sklearn.metrics import confusion_matrix, classification_report\n",
        "\n",
        "def print_confusion_matrix(y_true, y_pred, report=True):\n",
        "    labels = sorted(list(set(y_true)))\n",
        "    cmx_data = confusion_matrix(y_true, y_pred, labels=labels)\n",
        "    \n",
        "    df_cmx = pd.DataFrame(cmx_data, index=labels, columns=labels)\n",
        " \n",
        "    fig, ax = plt.subplots(figsize=(15, 15))\n",
        "    sns.heatmap(df_cmx, annot=True, fmt='g' ,square=False)\n",
        "    ax.set_ylim(len(set(y_true)), 0)\n",
        "    plt.show()\n",
        "    \n",
        "    if report:\n",
        "        print('Classification Report')\n",
        "        print(classification_report(y_test, y_pred))\n",
        "\n",
        "Y_pred = model.predict(X_test)\n",
        "y_pred = np.argmax(Y_pred, axis=1)\n",
        "\n",
        "print_confusion_matrix(y_test, y_pred)"
      ]
    },
    {
      "cell_type": "code",
      "execution_count": 100,
      "metadata": {},
      "outputs": [],
      "source": [
        "def perf_measure(y_test, pred_final):\n",
        "    TP = 0\n",
        "    FP = 0\n",
        "    TN = 0\n",
        "    FN = 0\n",
        "\n",
        "    for i in range(len(pred_final)): \n",
        "        if y_test[i]==pred_final[i]==1:\n",
        "           TP += 1\n",
        "        if y_test[i]==1 and y_test[i]!=pred_final[i]:\n",
        "           FP += 1\n",
        "        if y_test[i]==pred_final[i]==0:\n",
        "           TN += 1\n",
        "        if y_test[i]==0 and y_test[i]!=pred_final[i]:\n",
        "           FN += 1\n",
        "\n",
        "    return(TP, FP, TN, FN)"
      ]
    },
    {
      "cell_type": "code",
      "execution_count": 144,
      "metadata": {},
      "outputs": [
        {
          "name": "stdout",
          "output_type": "stream",
          "text": [
            "Recall of the model is 1.00\n",
            "Precision of the model is 1.00\n",
            "F-Score is 1.00\n"
          ]
        }
      ],
      "source": [
        "tp, fp, tn ,fn = perf_measure(y_test,y_pred)\n",
        "accuracy  = (tp + tn) / (tp + fp + tn + fn) \n",
        "precision = tp/(tp+fp)\n",
        "recall = tp/(tp+fn)\n",
        "f_score = (2*precision*recall)/(precision+recall)\n",
        "\n",
        "print(\"Recall of the model is {:.2f}\".format(recall))\n",
        "print(\"Precision of the model is {:.2f}\".format(precision))\n",
        "print(\"F-Score is {:.2f}\".format(f_score))"
      ]
    },
    {
      "cell_type": "code",
      "execution_count": 118,
      "metadata": {},
      "outputs": [],
      "source": [
        "from sklearn.datasets import make_classification\n",
        "from sklearn.model_selection import train_test_split\n",
        "from sklearn.linear_model import LogisticRegression\n",
        "from sklearn.metrics import precision_recall_curve\n",
        "from sklearn.metrics import PrecisionRecallDisplay"
      ]
    },
    {
      "cell_type": "code",
      "execution_count": 18,
      "metadata": {},
      "outputs": [
        {
          "data": {
            "application/vnd.plotly.v1+json": {
              "config": {
                "plotlyServerURL": "https://plot.ly"
              },
              "data": [
                {
                  "name": "val loss",
                  "type": "scatter",
                  "xaxis": "x",
                  "y": [
                    1.7940906286239624,
                    1.0824323892593384,
                    0.7620388865470886,
                    0.5688312649726868,
                    0.4865092635154724,
                    0.40233680605888367,
                    0.36906811594963074,
                    0.3433530628681183,
                    0.303982138633728,
                    0.28493282198905945,
                    0.26419028639793396,
                    0.2500680685043335,
                    0.22108307480812073,
                    0.21453610062599182,
                    0.18883703649044037,
                    0.1896107792854309,
                    0.16447144746780396,
                    0.15893733501434326,
                    0.163193479180336,
                    0.13867512345314026,
                    0.1355922967195511,
                    0.14445723593235016,
                    0.12594915926456451,
                    0.11849064379930496,
                    0.11904306709766388,
                    0.09859058260917664,
                    0.10434935986995697,
                    0.10216832906007767,
                    0.08986125141382217,
                    0.09438594430685043,
                    0.081262968480587,
                    0.08951794356107712,
                    0.08872678130865097,
                    0.08202137053012848,
                    0.08714712411165237,
                    0.0781853049993515,
                    0.07489592581987381,
                    0.08212458342313766,
                    0.07144113630056381,
                    0.06439867615699768,
                    0.07351678609848022,
                    0.07186941057443619,
                    0.06766500324010849,
                    0.0695096030831337,
                    0.06351234763860703,
                    0.06077614054083824,
                    0.06739383935928345,
                    0.056125182658433914,
                    0.057215601205825806,
                    0.04813911393284798,
                    0.061860185116529465,
                    0.05691109970211983,
                    0.05618982017040253,
                    0.05294947698712349,
                    0.060444027185440063,
                    0.04907635971903801,
                    0.04672197997570038,
                    0.06319745630025864,
                    0.049991950392723083,
                    0.04688572511076927,
                    0.05509911850094795,
                    0.053675755858421326,
                    0.05253870412707329,
                    0.04677579179406166,
                    0.048409879207611084,
                    0.04069223999977112,
                    0.0391722172498703,
                    0.041382331401109695,
                    0.04056739807128906,
                    0.03561105579137802,
                    0.03992931917309761,
                    0.045862842351198196,
                    0.041931893676519394,
                    0.04043623059988022,
                    0.05152174085378647,
                    0.03946496918797493,
                    0.040741123259067535,
                    0.04154685139656067,
                    0.053532522171735764,
                    0.04947477579116821,
                    0.034676652401685715,
                    0.03895122930407524,
                    0.03449411317706108,
                    0.05160047113895416,
                    0.03849169611930847,
                    0.03720424324274063,
                    0.03818107023835182,
                    0.030064377933740616,
                    0.030705275014042854,
                    0.03139353543519974,
                    0.03754470497369766,
                    0.037550754845142365,
                    0.031120367348194122,
                    0.03471168130636215,
                    0.032159313559532166,
                    0.033505961298942566,
                    0.030584000051021576,
                    0.032026033848524094,
                    0.02775438129901886,
                    0.03474697470664978
                  ],
                  "yaxis": "y"
                },
                {
                  "name": "train loss",
                  "type": "scatter",
                  "xaxis": "x",
                  "y": [
                    2.6037962436676025,
                    1.629409909248352,
                    1.2634918689727783,
                    1.0434296131134033,
                    0.9168253540992737,
                    0.8348616361618042,
                    0.7605815529823303,
                    0.7282683253288269,
                    0.6805262565612793,
                    0.6382619142532349,
                    0.5985881686210632,
                    0.5667697787284851,
                    0.5648120641708374,
                    0.4955092966556549,
                    0.5003923773765564,
                    0.48096680641174316,
                    0.4562753438949585,
                    0.42786234617233276,
                    0.40861883759498596,
                    0.39599835872650146,
                    0.36044612526893616,
                    0.3684944212436676,
                    0.3579425811767578,
                    0.33129656314849854,
                    0.33442553877830505,
                    0.2936536371707916,
                    0.29370391368865967,
                    0.29325827956199646,
                    0.28375115990638733,
                    0.2810574173927307,
                    0.25594377517700195,
                    0.250308632850647,
                    0.2696985602378845,
                    0.23357337713241577,
                    0.22875037789344788,
                    0.23323102295398712,
                    0.235591322183609,
                    0.22368477284908295,
                    0.21028868854045868,
                    0.2067749947309494,
                    0.21618644893169403,
                    0.20598597824573517,
                    0.19795922935009003,
                    0.20265665650367737,
                    0.1971091330051422,
                    0.1816951185464859,
                    0.198868989944458,
                    0.19132688641548157,
                    0.1724279224872589,
                    0.18207308650016785,
                    0.1892627477645874,
                    0.17393231391906738,
                    0.17967207729816437,
                    0.1750660538673401,
                    0.17469702661037445,
                    0.16383224725723267,
                    0.14949283003807068,
                    0.1549466997385025,
                    0.15952523052692413,
                    0.15493102371692657,
                    0.15979726612567902,
                    0.1546327769756317,
                    0.1595805138349533,
                    0.14644186198711395,
                    0.15291744470596313,
                    0.13399949669837952,
                    0.1415647566318512,
                    0.13799138367176056,
                    0.13453985750675201,
                    0.13559341430664062,
                    0.14531676471233368,
                    0.1390381157398224,
                    0.1415468007326126,
                    0.1277705281972885,
                    0.13363449275493622,
                    0.1316039115190506,
                    0.12672893702983856,
                    0.12370339781045914,
                    0.12232869863510132,
                    0.1280442774295807,
                    0.12858352065086365,
                    0.12795153260231018,
                    0.11160440742969513,
                    0.11803004145622253,
                    0.11917104572057724,
                    0.10935016721487045,
                    0.11714668571949005,
                    0.11834774911403656,
                    0.11611892282962799,
                    0.11273948103189468,
                    0.11784432828426361,
                    0.1170879527926445,
                    0.11305192112922668,
                    0.10140841454267502,
                    0.11256326735019684,
                    0.10634443163871765,
                    0.09609098732471466,
                    0.10078775882720947,
                    0.10073430091142654,
                    0.11304747313261032
                  ],
                  "yaxis": "y"
                },
                {
                  "name": "val accuracy",
                  "type": "scatter",
                  "xaxis": "x",
                  "y": [
                    0.5325829386711121,
                    0.7292653918266296,
                    0.8074644804000854,
                    0.8595971465110779,
                    0.8815165758132935,
                    0.9010663628578186,
                    0.9063981175422668,
                    0.9087677597999573,
                    0.9277251362800598,
                    0.9395734667778015,
                    0.9407582879066467,
                    0.9312795996665955,
                    0.9579383730888367,
                    0.9508293867111206,
                    0.9697867035865784,
                    0.9561611413955688,
                    0.971563994884491,
                    0.9763033390045166,
                    0.9561611413955688,
                    0.9881516695022583,
                    0.9834123253822327,
                    0.9733412265777588,
                    0.9804502129554749,
                    0.9822275042533875,
                    0.9727488160133362,
                    0.9911137223243713,
                    0.9863743782043457,
                    0.9822275042533875,
                    0.9922986030578613,
                    0.9763033390045166,
                    0.991706132888794,
                    0.975710928440094,
                    0.9881516695022583,
                    0.9893364906311035,
                    0.9816350936889648,
                    0.9863743782043457,
                    0.9934834241867065,
                    0.9851895570755005,
                    0.9869668483734131,
                    0.9928910136222839,
                    0.9905213117599487,
                    0.9905213117599487,
                    0.9851895570755005,
                    0.9863743782043457,
                    0.9905213117599487,
                    0.9911137223243713,
                    0.9875592589378357,
                    0.9845971465110779,
                    0.991706132888794,
                    0.9922986030578613,
                    0.9911137223243713,
                    0.9893364906311035,
                    0.991706132888794,
                    0.9934834241867065,
                    0.9810426831245422,
                    0.9964454770088196,
                    0.9934834241867065,
                    0.9810426831245422,
                    0.9911137223243713,
                    0.991706132888794,
                    0.9869668483734131,
                    0.9893364906311035,
                    0.9905213117599487,
                    0.9905213117599487,
                    0.9899289011955261,
                    0.995853066444397,
                    0.9911137223243713,
                    0.9964454770088196,
                    0.9934834241867065,
                    0.9946682453155518,
                    0.9952606558799744,
                    0.9934834241867065,
                    0.9952606558799744,
                    0.9946682453155518,
                    0.9822275042533875,
                    0.9887440800666809,
                    0.9922986030578613,
                    0.9928910136222839,
                    0.9828199148178101,
                    0.9828199148178101,
                    0.9946682453155518,
                    0.9905213117599487,
                    0.9976303577423096,
                    0.9792653918266296,
                    0.9940758347511292,
                    0.995853066444397,
                    0.9934834241867065,
                    0.9976303577423096,
                    0.9964454770088196,
                    0.9964454770088196,
                    0.9928910136222839,
                    0.9928910136222839,
                    0.9952606558799744,
                    0.9905213117599487,
                    0.9970378875732422,
                    0.9911137223243713,
                    0.9952606558799744,
                    0.9940758347511292,
                    0.995853066444397,
                    0.9970378875732422
                  ],
                  "yaxis": "y2"
                },
                {
                  "name": "train accuracy",
                  "type": "scatter",
                  "xaxis": "x",
                  "y": [
                    0.27788475155830383,
                    0.49874094128608704,
                    0.5996148586273193,
                    0.6676048040390015,
                    0.7078951001167297,
                    0.7200414538383484,
                    0.7489261031150818,
                    0.7533698678016663,
                    0.7672937512397766,
                    0.7859576344490051,
                    0.792475163936615,
                    0.8071396946907043,
                    0.8087690472602844,
                    0.8333580493927002,
                    0.8247666954994202,
                    0.8355799317359924,
                    0.8441712260246277,
                    0.8564656972885132,
                    0.8653532862663269,
                    0.8705376982688904,
                    0.8736483454704285,
                    0.8774996399879456,
                    0.8769071102142334,
                    0.8894978761672974,
                    0.8893496990203857,
                    0.899422287940979,
                    0.9026811122894287,
                    0.9019404649734497,
                    0.9084579944610596,
                    0.9118649363517761,
                    0.9160124659538269,
                    0.9200118780136108,
                    0.9091986417770386,
                    0.9248999953269958,
                    0.9283069372177124,
                    0.9234187602996826,
                    0.9225299954414368,
                    0.9281588196754456,
                    0.9314175844192505,
                    0.9330469369888306,
                    0.926233172416687,
                    0.933343231678009,
                    0.9327507019042969,
                    0.9320100545883179,
                    0.9343801140785217,
                    0.9438601732254028,
                    0.9343801140785217,
                    0.9379351139068604,
                    0.9426751732826233,
                    0.9410457611083984,
                    0.9379351139068604,
                    0.9428232908248901,
                    0.9411938786506653,
                    0.9423788785934448,
                    0.943712055683136,
                    0.9469708204269409,
                    0.9548215270042419,
                    0.9483039379119873,
                    0.944452702999115,
                    0.9512664675712585,
                    0.9462301731109619,
                    0.9472670555114746,
                    0.9450451731681824,
                    0.9525996446609497,
                    0.9457858204841614,
                    0.9576358795166016,
                    0.950081467628479,
                    0.9512664675712585,
                    0.957191526889801,
                    0.9539327621459961,
                    0.9483039379119873,
                    0.9534883499145508,
                    0.9551177620887756,
                    0.9557102918624878,
                    0.9549696445465088,
                    0.9561546444892883,
                    0.9563027620315552,
                    0.9598578214645386,
                    0.9576358795166016,
                    0.9580802917480469,
                    0.9548215270042419,
                    0.9582284092903137,
                    0.9651903510093689,
                    0.9595615267753601,
                    0.959709644317627,
                    0.9605984091758728,
                    0.95793217420578,
                    0.960450291633606,
                    0.9577840566635132,
                    0.960450291633606,
                    0.961190938949585,
                    0.961931586265564,
                    0.9620797038078308,
                    0.9645978212356567,
                    0.9623759388923645,
                    0.9644497036933899,
                    0.9674122333526611,
                    0.9651903510093689,
                    0.9625240564346313,
                    0.9598578214645386
                  ],
                  "yaxis": "y2"
                }
              ],
              "layout": {
                "template": {
                  "data": {
                    "bar": [
                      {
                        "error_x": {
                          "color": "#2a3f5f"
                        },
                        "error_y": {
                          "color": "#2a3f5f"
                        },
                        "marker": {
                          "line": {
                            "color": "#E5ECF6",
                            "width": 0.5
                          },
                          "pattern": {
                            "fillmode": "overlay",
                            "size": 10,
                            "solidity": 0.2
                          }
                        },
                        "type": "bar"
                      }
                    ],
                    "barpolar": [
                      {
                        "marker": {
                          "line": {
                            "color": "#E5ECF6",
                            "width": 0.5
                          },
                          "pattern": {
                            "fillmode": "overlay",
                            "size": 10,
                            "solidity": 0.2
                          }
                        },
                        "type": "barpolar"
                      }
                    ],
                    "carpet": [
                      {
                        "aaxis": {
                          "endlinecolor": "#2a3f5f",
                          "gridcolor": "white",
                          "linecolor": "white",
                          "minorgridcolor": "white",
                          "startlinecolor": "#2a3f5f"
                        },
                        "baxis": {
                          "endlinecolor": "#2a3f5f",
                          "gridcolor": "white",
                          "linecolor": "white",
                          "minorgridcolor": "white",
                          "startlinecolor": "#2a3f5f"
                        },
                        "type": "carpet"
                      }
                    ],
                    "choropleth": [
                      {
                        "colorbar": {
                          "outlinewidth": 0,
                          "ticks": ""
                        },
                        "type": "choropleth"
                      }
                    ],
                    "contour": [
                      {
                        "colorbar": {
                          "outlinewidth": 0,
                          "ticks": ""
                        },
                        "colorscale": [
                          [
                            0,
                            "#0d0887"
                          ],
                          [
                            0.1111111111111111,
                            "#46039f"
                          ],
                          [
                            0.2222222222222222,
                            "#7201a8"
                          ],
                          [
                            0.3333333333333333,
                            "#9c179e"
                          ],
                          [
                            0.4444444444444444,
                            "#bd3786"
                          ],
                          [
                            0.5555555555555556,
                            "#d8576b"
                          ],
                          [
                            0.6666666666666666,
                            "#ed7953"
                          ],
                          [
                            0.7777777777777778,
                            "#fb9f3a"
                          ],
                          [
                            0.8888888888888888,
                            "#fdca26"
                          ],
                          [
                            1,
                            "#f0f921"
                          ]
                        ],
                        "type": "contour"
                      }
                    ],
                    "contourcarpet": [
                      {
                        "colorbar": {
                          "outlinewidth": 0,
                          "ticks": ""
                        },
                        "type": "contourcarpet"
                      }
                    ],
                    "heatmap": [
                      {
                        "colorbar": {
                          "outlinewidth": 0,
                          "ticks": ""
                        },
                        "colorscale": [
                          [
                            0,
                            "#0d0887"
                          ],
                          [
                            0.1111111111111111,
                            "#46039f"
                          ],
                          [
                            0.2222222222222222,
                            "#7201a8"
                          ],
                          [
                            0.3333333333333333,
                            "#9c179e"
                          ],
                          [
                            0.4444444444444444,
                            "#bd3786"
                          ],
                          [
                            0.5555555555555556,
                            "#d8576b"
                          ],
                          [
                            0.6666666666666666,
                            "#ed7953"
                          ],
                          [
                            0.7777777777777778,
                            "#fb9f3a"
                          ],
                          [
                            0.8888888888888888,
                            "#fdca26"
                          ],
                          [
                            1,
                            "#f0f921"
                          ]
                        ],
                        "type": "heatmap"
                      }
                    ],
                    "heatmapgl": [
                      {
                        "colorbar": {
                          "outlinewidth": 0,
                          "ticks": ""
                        },
                        "colorscale": [
                          [
                            0,
                            "#0d0887"
                          ],
                          [
                            0.1111111111111111,
                            "#46039f"
                          ],
                          [
                            0.2222222222222222,
                            "#7201a8"
                          ],
                          [
                            0.3333333333333333,
                            "#9c179e"
                          ],
                          [
                            0.4444444444444444,
                            "#bd3786"
                          ],
                          [
                            0.5555555555555556,
                            "#d8576b"
                          ],
                          [
                            0.6666666666666666,
                            "#ed7953"
                          ],
                          [
                            0.7777777777777778,
                            "#fb9f3a"
                          ],
                          [
                            0.8888888888888888,
                            "#fdca26"
                          ],
                          [
                            1,
                            "#f0f921"
                          ]
                        ],
                        "type": "heatmapgl"
                      }
                    ],
                    "histogram": [
                      {
                        "marker": {
                          "pattern": {
                            "fillmode": "overlay",
                            "size": 10,
                            "solidity": 0.2
                          }
                        },
                        "type": "histogram"
                      }
                    ],
                    "histogram2d": [
                      {
                        "colorbar": {
                          "outlinewidth": 0,
                          "ticks": ""
                        },
                        "colorscale": [
                          [
                            0,
                            "#0d0887"
                          ],
                          [
                            0.1111111111111111,
                            "#46039f"
                          ],
                          [
                            0.2222222222222222,
                            "#7201a8"
                          ],
                          [
                            0.3333333333333333,
                            "#9c179e"
                          ],
                          [
                            0.4444444444444444,
                            "#bd3786"
                          ],
                          [
                            0.5555555555555556,
                            "#d8576b"
                          ],
                          [
                            0.6666666666666666,
                            "#ed7953"
                          ],
                          [
                            0.7777777777777778,
                            "#fb9f3a"
                          ],
                          [
                            0.8888888888888888,
                            "#fdca26"
                          ],
                          [
                            1,
                            "#f0f921"
                          ]
                        ],
                        "type": "histogram2d"
                      }
                    ],
                    "histogram2dcontour": [
                      {
                        "colorbar": {
                          "outlinewidth": 0,
                          "ticks": ""
                        },
                        "colorscale": [
                          [
                            0,
                            "#0d0887"
                          ],
                          [
                            0.1111111111111111,
                            "#46039f"
                          ],
                          [
                            0.2222222222222222,
                            "#7201a8"
                          ],
                          [
                            0.3333333333333333,
                            "#9c179e"
                          ],
                          [
                            0.4444444444444444,
                            "#bd3786"
                          ],
                          [
                            0.5555555555555556,
                            "#d8576b"
                          ],
                          [
                            0.6666666666666666,
                            "#ed7953"
                          ],
                          [
                            0.7777777777777778,
                            "#fb9f3a"
                          ],
                          [
                            0.8888888888888888,
                            "#fdca26"
                          ],
                          [
                            1,
                            "#f0f921"
                          ]
                        ],
                        "type": "histogram2dcontour"
                      }
                    ],
                    "mesh3d": [
                      {
                        "colorbar": {
                          "outlinewidth": 0,
                          "ticks": ""
                        },
                        "type": "mesh3d"
                      }
                    ],
                    "parcoords": [
                      {
                        "line": {
                          "colorbar": {
                            "outlinewidth": 0,
                            "ticks": ""
                          }
                        },
                        "type": "parcoords"
                      }
                    ],
                    "pie": [
                      {
                        "automargin": true,
                        "type": "pie"
                      }
                    ],
                    "scatter": [
                      {
                        "fillpattern": {
                          "fillmode": "overlay",
                          "size": 10,
                          "solidity": 0.2
                        },
                        "type": "scatter"
                      }
                    ],
                    "scatter3d": [
                      {
                        "line": {
                          "colorbar": {
                            "outlinewidth": 0,
                            "ticks": ""
                          }
                        },
                        "marker": {
                          "colorbar": {
                            "outlinewidth": 0,
                            "ticks": ""
                          }
                        },
                        "type": "scatter3d"
                      }
                    ],
                    "scattercarpet": [
                      {
                        "marker": {
                          "colorbar": {
                            "outlinewidth": 0,
                            "ticks": ""
                          }
                        },
                        "type": "scattercarpet"
                      }
                    ],
                    "scattergeo": [
                      {
                        "marker": {
                          "colorbar": {
                            "outlinewidth": 0,
                            "ticks": ""
                          }
                        },
                        "type": "scattergeo"
                      }
                    ],
                    "scattergl": [
                      {
                        "marker": {
                          "colorbar": {
                            "outlinewidth": 0,
                            "ticks": ""
                          }
                        },
                        "type": "scattergl"
                      }
                    ],
                    "scattermapbox": [
                      {
                        "marker": {
                          "colorbar": {
                            "outlinewidth": 0,
                            "ticks": ""
                          }
                        },
                        "type": "scattermapbox"
                      }
                    ],
                    "scatterpolar": [
                      {
                        "marker": {
                          "colorbar": {
                            "outlinewidth": 0,
                            "ticks": ""
                          }
                        },
                        "type": "scatterpolar"
                      }
                    ],
                    "scatterpolargl": [
                      {
                        "marker": {
                          "colorbar": {
                            "outlinewidth": 0,
                            "ticks": ""
                          }
                        },
                        "type": "scatterpolargl"
                      }
                    ],
                    "scatterternary": [
                      {
                        "marker": {
                          "colorbar": {
                            "outlinewidth": 0,
                            "ticks": ""
                          }
                        },
                        "type": "scatterternary"
                      }
                    ],
                    "surface": [
                      {
                        "colorbar": {
                          "outlinewidth": 0,
                          "ticks": ""
                        },
                        "colorscale": [
                          [
                            0,
                            "#0d0887"
                          ],
                          [
                            0.1111111111111111,
                            "#46039f"
                          ],
                          [
                            0.2222222222222222,
                            "#7201a8"
                          ],
                          [
                            0.3333333333333333,
                            "#9c179e"
                          ],
                          [
                            0.4444444444444444,
                            "#bd3786"
                          ],
                          [
                            0.5555555555555556,
                            "#d8576b"
                          ],
                          [
                            0.6666666666666666,
                            "#ed7953"
                          ],
                          [
                            0.7777777777777778,
                            "#fb9f3a"
                          ],
                          [
                            0.8888888888888888,
                            "#fdca26"
                          ],
                          [
                            1,
                            "#f0f921"
                          ]
                        ],
                        "type": "surface"
                      }
                    ],
                    "table": [
                      {
                        "cells": {
                          "fill": {
                            "color": "#EBF0F8"
                          },
                          "line": {
                            "color": "white"
                          }
                        },
                        "header": {
                          "fill": {
                            "color": "#C8D4E3"
                          },
                          "line": {
                            "color": "white"
                          }
                        },
                        "type": "table"
                      }
                    ]
                  },
                  "layout": {
                    "annotationdefaults": {
                      "arrowcolor": "#2a3f5f",
                      "arrowhead": 0,
                      "arrowwidth": 1
                    },
                    "autotypenumbers": "strict",
                    "coloraxis": {
                      "colorbar": {
                        "outlinewidth": 0,
                        "ticks": ""
                      }
                    },
                    "colorscale": {
                      "diverging": [
                        [
                          0,
                          "#8e0152"
                        ],
                        [
                          0.1,
                          "#c51b7d"
                        ],
                        [
                          0.2,
                          "#de77ae"
                        ],
                        [
                          0.3,
                          "#f1b6da"
                        ],
                        [
                          0.4,
                          "#fde0ef"
                        ],
                        [
                          0.5,
                          "#f7f7f7"
                        ],
                        [
                          0.6,
                          "#e6f5d0"
                        ],
                        [
                          0.7,
                          "#b8e186"
                        ],
                        [
                          0.8,
                          "#7fbc41"
                        ],
                        [
                          0.9,
                          "#4d9221"
                        ],
                        [
                          1,
                          "#276419"
                        ]
                      ],
                      "sequential": [
                        [
                          0,
                          "#0d0887"
                        ],
                        [
                          0.1111111111111111,
                          "#46039f"
                        ],
                        [
                          0.2222222222222222,
                          "#7201a8"
                        ],
                        [
                          0.3333333333333333,
                          "#9c179e"
                        ],
                        [
                          0.4444444444444444,
                          "#bd3786"
                        ],
                        [
                          0.5555555555555556,
                          "#d8576b"
                        ],
                        [
                          0.6666666666666666,
                          "#ed7953"
                        ],
                        [
                          0.7777777777777778,
                          "#fb9f3a"
                        ],
                        [
                          0.8888888888888888,
                          "#fdca26"
                        ],
                        [
                          1,
                          "#f0f921"
                        ]
                      ],
                      "sequentialminus": [
                        [
                          0,
                          "#0d0887"
                        ],
                        [
                          0.1111111111111111,
                          "#46039f"
                        ],
                        [
                          0.2222222222222222,
                          "#7201a8"
                        ],
                        [
                          0.3333333333333333,
                          "#9c179e"
                        ],
                        [
                          0.4444444444444444,
                          "#bd3786"
                        ],
                        [
                          0.5555555555555556,
                          "#d8576b"
                        ],
                        [
                          0.6666666666666666,
                          "#ed7953"
                        ],
                        [
                          0.7777777777777778,
                          "#fb9f3a"
                        ],
                        [
                          0.8888888888888888,
                          "#fdca26"
                        ],
                        [
                          1,
                          "#f0f921"
                        ]
                      ]
                    },
                    "colorway": [
                      "#636efa",
                      "#EF553B",
                      "#00cc96",
                      "#ab63fa",
                      "#FFA15A",
                      "#19d3f3",
                      "#FF6692",
                      "#B6E880",
                      "#FF97FF",
                      "#FECB52"
                    ],
                    "font": {
                      "color": "#2a3f5f"
                    },
                    "geo": {
                      "bgcolor": "white",
                      "lakecolor": "white",
                      "landcolor": "#E5ECF6",
                      "showlakes": true,
                      "showland": true,
                      "subunitcolor": "white"
                    },
                    "hoverlabel": {
                      "align": "left"
                    },
                    "hovermode": "closest",
                    "mapbox": {
                      "style": "light"
                    },
                    "paper_bgcolor": "white",
                    "plot_bgcolor": "#E5ECF6",
                    "polar": {
                      "angularaxis": {
                        "gridcolor": "white",
                        "linecolor": "white",
                        "ticks": ""
                      },
                      "bgcolor": "#E5ECF6",
                      "radialaxis": {
                        "gridcolor": "white",
                        "linecolor": "white",
                        "ticks": ""
                      }
                    },
                    "scene": {
                      "xaxis": {
                        "backgroundcolor": "#E5ECF6",
                        "gridcolor": "white",
                        "gridwidth": 2,
                        "linecolor": "white",
                        "showbackground": true,
                        "ticks": "",
                        "zerolinecolor": "white"
                      },
                      "yaxis": {
                        "backgroundcolor": "#E5ECF6",
                        "gridcolor": "white",
                        "gridwidth": 2,
                        "linecolor": "white",
                        "showbackground": true,
                        "ticks": "",
                        "zerolinecolor": "white"
                      },
                      "zaxis": {
                        "backgroundcolor": "#E5ECF6",
                        "gridcolor": "white",
                        "gridwidth": 2,
                        "linecolor": "white",
                        "showbackground": true,
                        "ticks": "",
                        "zerolinecolor": "white"
                      }
                    },
                    "shapedefaults": {
                      "line": {
                        "color": "#2a3f5f"
                      }
                    },
                    "ternary": {
                      "aaxis": {
                        "gridcolor": "white",
                        "linecolor": "white",
                        "ticks": ""
                      },
                      "baxis": {
                        "gridcolor": "white",
                        "linecolor": "white",
                        "ticks": ""
                      },
                      "bgcolor": "#E5ECF6",
                      "caxis": {
                        "gridcolor": "white",
                        "linecolor": "white",
                        "ticks": ""
                      }
                    },
                    "title": {
                      "x": 0.05
                    },
                    "xaxis": {
                      "automargin": true,
                      "gridcolor": "white",
                      "linecolor": "white",
                      "ticks": "",
                      "title": {
                        "standoff": 15
                      },
                      "zerolinecolor": "white",
                      "zerolinewidth": 2
                    },
                    "yaxis": {
                      "automargin": true,
                      "gridcolor": "white",
                      "linecolor": "white",
                      "ticks": "",
                      "title": {
                        "standoff": 15
                      },
                      "zerolinecolor": "white",
                      "zerolinewidth": 2
                    }
                  }
                },
                "title": {
                  "text": "Loss/Accuracy of Model"
                },
                "xaxis": {
                  "anchor": "y",
                  "domain": [
                    0,
                    0.94
                  ],
                  "title": {
                    "text": "Epoch"
                  }
                },
                "yaxis": {
                  "anchor": "x",
                  "domain": [
                    0,
                    1
                  ],
                  "title": {
                    "text": "<b>primary</b> Loss"
                  }
                },
                "yaxis2": {
                  "anchor": "x",
                  "overlaying": "y",
                  "side": "right",
                  "title": {
                    "text": "<b>secondary</b> Accuracy"
                  }
                }
              }
            }
          },
          "metadata": {},
          "output_type": "display_data"
        }
      ],
      "source": [
        "import plotly.graph_objects as go\n",
        "from plotly.subplots import make_subplots\n",
        "\n",
        "# Create figure with secondary y-axis\n",
        "fig = make_subplots(specs=[[{\"secondary_y\": True}]])\n",
        "\n",
        "# Add traces\n",
        "fig.add_trace(\n",
        "    go.Scatter( y=history.history['val_loss'], name=\"val loss\"),\n",
        "    secondary_y=False,\n",
        ")\n",
        "\n",
        "fig.add_trace(\n",
        "    go.Scatter( y=history.history['loss'], name=\"train loss\"),\n",
        "    secondary_y=False,\n",
        ")\n",
        "\n",
        "fig.add_trace(\n",
        "    go.Scatter( y=history.history['val_accuracy'], name=\"val accuracy\"),\n",
        "    secondary_y=True,\n",
        ")\n",
        "\n",
        "fig.add_trace(\n",
        "    go.Scatter( y=history.history['accuracy'], name=\"train accuracy\"),\n",
        "    secondary_y=True,\n",
        ")\n",
        "\n",
        "# Add figure title\n",
        "fig.update_layout(\n",
        "    title_text=\"Loss/Accuracy of Model\"\n",
        ")\n",
        "\n",
        "# Set x-axis title\n",
        "fig.update_xaxes(title_text=\"Epoch\")\n",
        "\n",
        "# Set y-axes titles\n",
        "fig.update_yaxes(title_text=\"<b>primary</b> Loss\", secondary_y=False)\n",
        "fig.update_yaxes(title_text=\"<b>secondary</b> Accuracy\", secondary_y=True)\n",
        "\n",
        "fig.show()"
      ]
    },
    {
      "cell_type": "code",
      "execution_count": 25,
      "metadata": {},
      "outputs": [],
      "source": [
        "import string\n",
        "def mapper_alphabet():\n",
        "    nums = [i for i in range(1, 26)]\n",
        "    alphabet = list(string.ascii_uppercase)\n",
        "    alphabet.remove(\"J\")\n",
        "    alphabet.remove(\"Z\")\n",
        "\n",
        "    mapper = {}\n",
        "    for num, alpha in zip(nums, alphabet):\n",
        "        mapper[num] = alpha\n",
        "\n",
        "    return mapper\n"
      ]
    },
    {
      "cell_type": "code",
      "execution_count": 26,
      "metadata": {},
      "outputs": [
        {
          "name": "stdout",
          "output_type": "stream",
          "text": [
            "53/53 [==============================] - 0s 1ms/step\n"
          ]
        }
      ],
      "source": [
        "import numpy as np\n",
        "predictions = np.argmax(model.predict(X_test), axis=1)\n",
        "for i in range(len(predictions)):\n",
        "    predictions[i] += 1\n"
      ]
    },
    {
      "cell_type": "code",
      "execution_count": 28,
      "metadata": {},
      "outputs": [
        {
          "data": {
            "text/html": [
              "<div>\n",
              "<style scoped>\n",
              "    .dataframe tbody tr th:only-of-type {\n",
              "        vertical-align: middle;\n",
              "    }\n",
              "\n",
              "    .dataframe tbody tr th {\n",
              "        vertical-align: top;\n",
              "    }\n",
              "\n",
              "    .dataframe thead th {\n",
              "        text-align: right;\n",
              "    }\n",
              "</style>\n",
              "<table border=\"1\" class=\"dataframe\">\n",
              "  <thead>\n",
              "    <tr style=\"text-align: right;\">\n",
              "      <th></th>\n",
              "      <th>y_pred</th>\n",
              "      <th>y_test</th>\n",
              "      <th>correct</th>\n",
              "    </tr>\n",
              "  </thead>\n",
              "  <tbody>\n",
              "    <tr>\n",
              "      <th>382</th>\n",
              "      <td>U</td>\n",
              "      <td>T</td>\n",
              "      <td>False</td>\n",
              "    </tr>\n",
              "    <tr>\n",
              "      <th>1112</th>\n",
              "      <td>F</td>\n",
              "      <td>E</td>\n",
              "      <td>False</td>\n",
              "    </tr>\n",
              "    <tr>\n",
              "      <th>638</th>\n",
              "      <td>V</td>\n",
              "      <td>U</td>\n",
              "      <td>False</td>\n",
              "    </tr>\n",
              "    <tr>\n",
              "      <th>566</th>\n",
              "      <td>M</td>\n",
              "      <td>L</td>\n",
              "      <td>False</td>\n",
              "    </tr>\n",
              "    <tr>\n",
              "      <th>1618</th>\n",
              "      <td>T</td>\n",
              "      <td>S</td>\n",
              "      <td>False</td>\n",
              "    </tr>\n",
              "  </tbody>\n",
              "</table>\n",
              "</div>"
            ],
            "text/plain": [
              "     y_pred y_test  correct\n",
              "382       U      T    False\n",
              "1112      F      E    False\n",
              "638       V      U    False\n",
              "566       M      L    False\n",
              "1618      T      S    False"
            ]
          },
          "execution_count": 28,
          "metadata": {},
          "output_type": "execute_result"
        }
      ],
      "source": [
        "from sklearn.utils import shuffle\n",
        "import pandas as pd\n",
        "df_pred_test = pd.DataFrame({\"y_pred\": predictions, \"y_test\": y_test})\n",
        "\n",
        "df_pred_test[\"correct\"] = np.where(\n",
        "    df_pred_test[\"y_pred\"] == df_pred_test[\"y_test\"], True, False\n",
        ")\n",
        "\n",
        "df_pred_test[\"y_pred\"] = df_pred_test[\"y_pred\"].map(mapper_alphabet())\n",
        "df_pred_test[\"y_test\"] = df_pred_test[\"y_test\"].map(mapper_alphabet())\n",
        "\n",
        "shuffle(df_pred_test).head()\n"
      ]
    },
    {
      "cell_type": "code",
      "execution_count": 20,
      "metadata": {},
      "outputs": [
        {
          "data": {
            "image/png": "[encoded data removed]",
            "text/plain": [
              "<Figure size 1500x1500 with 2 Axes>"
            ]
          },
          "metadata": {},
          "output_type": "display_data"
        }
      ],
      "source": [
        "import matplotlib.pyplot as plt\n",
        "acc = history.history['accuracy']\n",
        "val_acc = history.history['val_accuracy']\n",
        "loss = history.history['loss']\n",
        "val_loss = history.history['val_loss']\n",
        "\n",
        "epochs_range = range(100)\n",
        "\n",
        "plt.figure(figsize=(15, 15))\n",
        "plt.subplot(2, 2, 1)\n",
        "plt.plot(epochs_range, acc, label='Training Accuracy')\n",
        "plt.plot(epochs_range, val_acc, label='Validation Accuracy')\n",
        "plt.legend(loc='lower right')\n",
        "plt.title('Training and Validation Accuracy')\n",
        "\n",
        "plt.subplot(2, 2, 2)\n",
        "plt.plot(epochs_range, loss, label='Training Loss')\n",
        "plt.plot(epochs_range, val_loss, label='Validation Loss')\n",
        "plt.legend(loc='upper right')\n",
        "plt.title('Training and Validation Loss')\n",
        "plt.show()"
      ]
    },
    {
      "cell_type": "markdown",
      "metadata": {
        "id": "FNP6aqzc9hE5"
      },
      "source": [
        "# Convert to model for Tensorflow-Lite"
      ]
    },
    {
      "cell_type": "code",
      "execution_count": null,
      "metadata": {
        "id": "ODjnYyld9hE6"
      },
      "outputs": [],
      "source": [
        "# # Save as a model dedicated to inference\n",
        "# model.save(model_save_path, include_optimizer=False)"
      ]
    },
    {
      "cell_type": "code",
      "execution_count": 41,
      "metadata": {
        "colab": {
          "base_uri": "https://localhost:8080/"
        },
        "id": "zRfuK8Y59hE6",
        "outputId": "a4ca585c-b5d5-4244-8291-8674063209bb"
      },
      "outputs": [
        {
          "name": "stdout",
          "output_type": "stream",
          "text": [
            "INFO:tensorflow:Assets written to: C:\\Users\\rezae\\AppData\\Local\\Temp\\tmpqou4_tg8\\assets\n"
          ]
        },
        {
          "data": {
            "text/plain": [
              "164672"
            ]
          },
          "execution_count": 41,
          "metadata": {},
          "output_type": "execute_result"
        }
      ],
      "source": [
        "# Transform model (quantization)\n",
        "\n",
        "converter = tf.lite.TFLiteConverter.from_keras_model(model)\n",
        "converter.optimizations = [tf.lite.Optimize.DEFAULT]\n",
        "tflite_quantized_model = converter.convert()\n",
        "\n",
        "open(tflite_save_path, 'wb').write(tflite_quantized_model)"
      ]
    },
    {
      "cell_type": "markdown",
      "metadata": {
        "id": "CHBPBXdx9hE6"
      },
      "source": [
        "# Inference test"
      ]
    },
    {
      "cell_type": "code",
      "execution_count": null,
      "metadata": {
        "id": "mGAzLocO9hE7"
      },
      "outputs": [],
      "source": [
        "interpreter = tf.lite.Interpreter(model_path=tflite_save_path)\n",
        "interpreter.allocate_tensors()"
      ]
    },
    {
      "cell_type": "code",
      "execution_count": null,
      "metadata": {
        "id": "oQuDK8YS9hE7"
      },
      "outputs": [],
      "source": [
        "# Get I / O tensor\n",
        "input_details = interpreter.get_input_details()\n",
        "output_details = interpreter.get_output_details()"
      ]
    },
    {
      "cell_type": "code",
      "execution_count": null,
      "metadata": {
        "id": "2_ixAf_l9hE7"
      },
      "outputs": [],
      "source": [
        "interpreter.set_tensor(input_details[0]['index'], np.array([X_test[0]]))"
      ]
    },
    {
      "cell_type": "code",
      "execution_count": null,
      "metadata": {
        "colab": {
          "base_uri": "https://localhost:8080/"
        },
        "id": "s4FoAnuc9hE7",
        "outputId": "91f18257-8d8b-4ef3-c558-e9b5f94fabbf",
        "scrolled": true
      },
      "outputs": [
        {
          "name": "stdout",
          "output_type": "stream",
          "text": [
            "CPU times: total: 0 ns\n",
            "Wall time: 5.19 ms\n"
          ]
        }
      ],
      "source": [
        "%%time\n",
        "# Inference implementation\n",
        "interpreter.invoke()\n",
        "tflite_results = interpreter.get_tensor(output_details[0]['index'])"
      ]
    },
    {
      "cell_type": "code",
      "execution_count": null,
      "metadata": {
        "colab": {
          "base_uri": "https://localhost:8080/"
        },
        "id": "vONjp19J9hE8",
        "outputId": "77205e24-fd00-42c4-f7b6-e06e527c2cba"
      },
      "outputs": [
        {
          "name": "stdout",
          "output_type": "stream",
          "text": [
            "[6.78666879e-07 9.10264532e-07 9.88274769e-06 1.21434905e-01\n",
            " 1.61669334e-06 2.47473266e-12 2.76285736e-03 4.45069221e-04\n",
            " 6.28389927e-08 1.70295618e-06 3.50293431e-06 6.18906808e-04\n",
            " 7.54487246e-06 1.51188999e-06 5.65548248e-07 1.91720246e-05\n",
            " 1.89821967e-05 3.06524307e-04 1.24062208e-05 1.08622396e-02\n",
            " 2.91681208e-04 8.53756064e-05 1.31183842e-05 8.48215759e-01\n",
            " 9.35750505e-11 1.48850232e-02]\n",
            "23\n"
          ]
        }
      ],
      "source": [
        "print(np.squeeze(tflite_results))\n",
        "print(np.argmax(np.squeeze(tflite_results)))"
      ]
    }
  ],
  "metadata": {
    "accelerator": "GPU",
    "colab": {
      "collapsed_sections": [],
      "name": "keypoint_classification_EN.ipynb",
      "provenance": [],
      "toc_visible": true
    },
    "kernelspec": {
      "display_name": "Python 3.9.12 ('base')",
      "language": "python",
      "name": "python3"
    },
    "language_info": {
      "codemirror_mode": {
        "name": "ipython",
        "version": 3
      },
      "file_extension": ".py",
      "mimetype": "text/x-python",
      "name": "python",
      "nbconvert_exporter": "python",
      "pygments_lexer": "ipython3",
      "version": "3.9.15 (main, Nov 24 2022, 14:39:17) [MSC v.1916 64 bit (AMD64)]"
    },
    "vscode": {
      "interpreter": {
        "hash": "ffccf19f5bea3c345c854d505af45eafe6890432f50bcc58a653a75b25e4385b"
      }
    }
  },
  "nbformat": 4,
  "nbformat_minor": 0
}
